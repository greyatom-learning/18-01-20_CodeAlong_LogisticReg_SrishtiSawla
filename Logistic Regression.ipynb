{
 "cells": [
  {
   "cell_type": "markdown",
   "metadata": {},
   "source": [
    "\n",
    "\n",
    "# Revisiting Linear Regression\n",
    "\n",
    "### What is Linear Regression - Quiz\n",
    "\n",
    "-> What type of Algorithm is Linear Regression : Supervised Learning Algorithm or Unsupervised Learning Algorithm<br>\n",
    "-> Linear Regression predicts _ _ _ _ _ _ Variables. a: Continous Variables b: Categorical Variables<br>\n",
    "-> What is the Hypothesis function for Linear Regression<br>\n",
    "-> What are Evaluation Metrics for Linear Regression?"
   ]
  },
  {
   "cell_type": "code",
   "execution_count": 1,
   "metadata": {},
   "outputs": [
    {
     "data": {
      "text/html": [
       "<img src=\"Images/ezgif.com-resize.gif\"/>"
      ],
      "text/plain": [
       "<IPython.core.display.Image object>"
      ]
     },
     "execution_count": 1,
     "metadata": {},
     "output_type": "execute_result"
    }
   ],
   "source": [
    "from IPython.display import Image\n",
    "from IPython.core.display import HTML \n",
    "Image(url= \"Images/ezgif.com-resize.gif\")"
   ]
  },
  {
   "cell_type": "markdown",
   "metadata": {},
   "source": [
    "# Logistic Regression"
   ]
  },
  {
   "cell_type": "code",
   "execution_count": 2,
   "metadata": {},
   "outputs": [
    {
     "data": {
      "text/html": [
       "<img src=\"Images/LogR.png\"/>"
      ],
      "text/plain": [
       "<IPython.core.display.Image object>"
      ]
     },
     "execution_count": 2,
     "metadata": {},
     "output_type": "execute_result"
    }
   ],
   "source": [
    "Image(url= \"Images/LogR.png\")"
   ]
  },
  {
   "cell_type": "markdown",
   "metadata": {},
   "source": [
    "### <font color='Dark Orange'>1.Why do we need Classification Algorithms - Introduction to Logistic Regression</font>\n",
    "### <font color='#01519b'>2.Mathematics behind Logistic Regression</font>\n",
    "### <font color='violet'>3.How good is your prediction?</font>\n",
    "### <font color='green'>4.Getting hands dirty at coding Logistic Regression</font>"
   ]
  },
  {
   "cell_type": "markdown",
   "metadata": {},
   "source": [
    "## Why do we need Classification Algorithms-Introduction to Logistic Regression"
   ]
  },
  {
   "cell_type": "markdown",
   "metadata": {},
   "source": [
    "<div style='width:400px;height:300px'>\n",
    "    <div style='position:absolute;left:calc(50% - 200px);top:0px;width:400px;height:100px;background:#8bc34a;line-height:100px;border-radius:10px;border:2px solid white'align=\"center\">Variables</div>\n",
    "    <div style='position:absolute;left:calc(50% - 200px);top:100px;display:flex;width:400px;height:100px;'>\n",
    "        <div style='width:200px;height:100px;background:yellow;line-height:100px;border-radius:10px;border:2px solid white'align=\"center\">Numeric</div>\n",
    "        <div style='width:200px;height:100px;background:#3a91e2;line-height:100px;border-radius:10px;border:2px solid white'align=\"center\">Categorical</div>\n",
    "    </div>\n",
    "    <div style='position:absolute;left:calc(50% - 200px);top:200px;display:flex;width:400px;height:100px;'>\n",
    "        <div style='width:100px;height:100px;background:#ffc107;line-height:100px;border-radius:10px;border:2px solid white'align=\"center\">Continuous</div>\n",
    "        <div style='width:100px;height:100px;background:#ffe56c;line-height:100px;border-radius:10px;border:2px solid white'align=\"center\">Discrete</div>\n",
    "        <div style='width:100px;height:100px;background:#03a9f4;line-height:100px;border-radius:10px;border:2px solid white'align=\"center\">Ordinal</div>\n",
    "        <div style='width:100px;height:100px;background:#009688;line-height:100px;border-radius:10px;border:2px solid white'align=\"center\">Nominal</div>\n",
    "    </div>\n",
    "    \n",
    "</div>"
   ]
  },
  {
   "cell_type": "markdown",
   "metadata": {},
   "source": [
    "There are 4 types of Variables <br>\n",
    "1.Continous variables e.g : Height of a person 153.5cms,156.8cms etc <br>\n",
    "2.Discrete variables e.g : No. of Children in a school <br>\n",
    "3.Ordinal variables e.g : good,very good,excellent <br>\n",
    "4.Nominal variables e.g : pink,blue,green<br><br>\n",
    "<b>Classification model: <br>A classification model tries to draw some conclusions from the input values given for training. It will predict the class labels/categories for the new data.</b><br><br>\n",
    "1.Binary Classification: Classification task with two possible outcomes. Eg: Gender classification (Male/Female)<br>\n",
    "2.Multi-class classification: Classification with more than two classes. In multi-class classification, each sample is assigned to one and only one target label. Eg: An animal can be a cat or dog but not both at the same time.<br>\n",
    "3.Multi-label classification: Classification task where each sample is mapped to a set of target labels (more than one class). Eg: A news article can be about sports, a person, and location at the same time."
   ]
  },
  {
   "cell_type": "markdown",
   "metadata": {},
   "source": [
    "<b>Logistic Regression :<br>\n",
    "Logistic Regression is a Machine Learning algorithm which is used for the classification problems, it is a predictive analysis algorithm and based on the concept of probability.</b>"
   ]
  },
  {
   "cell_type": "code",
   "execution_count": 3,
   "metadata": {},
   "outputs": [
    {
     "data": {
      "text/html": [
       "<img src=\"Images/LR.png\"/>"
      ],
      "text/plain": [
       "<IPython.core.display.Image object>"
      ]
     },
     "execution_count": 3,
     "metadata": {},
     "output_type": "execute_result"
    }
   ],
   "source": [
    "Image(url= \"Images/LR.png\")"
   ]
  },
  {
   "cell_type": "markdown",
   "metadata": {},
   "source": [
    "# Mathematics behind Logistic Regression"
   ]
  },
  {
   "cell_type": "markdown",
   "metadata": {},
   "source": [
    "Logistic Regression is a predictive algorithm based on the concept of probability.<br>\n",
    "The hypothesis of logistic regression tends it to limit the cost function between 0 and 1. Therefore linear functions fail to represent it as it can have a value greater than 1 or less than 0 which is not possible as per the hypothesis of logistic regression."
   ]
  },
  {
   "cell_type": "markdown",
   "metadata": {},
   "source": [
    "$$ 0<=(h_\\theta(x))<=1 $$"
   ]
  },
  {
   "cell_type": "markdown",
   "metadata": {},
   "source": [
    "### What is the Sigmoid Function?<br>\n",
    "In order to map predicted values to probabilities, we use the Sigmoid function. The function maps any real value into another value between 0 and 1. In machine learning, we use sigmoid to map predictions to probabilities."
   ]
  },
  {
   "cell_type": "code",
   "execution_count": 4,
   "metadata": {
    "scrolled": true
   },
   "outputs": [
    {
     "data": {
      "text/html": [
       "<img src=\"Images/sigmoid.png\"/>"
      ],
      "text/plain": [
       "<IPython.core.display.Image object>"
      ]
     },
     "execution_count": 4,
     "metadata": {},
     "output_type": "execute_result"
    }
   ],
   "source": [
    "Image(url= \"Images/sigmoid.png\")"
   ]
  },
  {
   "cell_type": "markdown",
   "metadata": {},
   "source": [
    "### Hypothesis of Logistic Regression"
   ]
  },
  {
   "cell_type": "markdown",
   "metadata": {},
   "source": [
    "$$ h_\\theta(x) = \\frac{1}{1 + e^{\\theta^{\\top} x}} $$"
   ]
  },
  {
   "cell_type": "markdown",
   "metadata": {},
   "source": [
    "<div style='position:relative;left:calc(50%);display:flex;width:70vw;height:50px;'>\n",
    "        <div style='width:80vw;height:50px;line-height:70px;background: #D7BDE2; border:1px solid white'align=\"center\"><a href ='https://www.desmos.com/calculator'><h3>Lets visualise some graphs</h3></a></div>"
   ]
  },
  {
   "cell_type": "markdown",
   "metadata": {},
   "source": [
    "### Decision Boundary<br>\n",
    "We expect our classifier to give us a set of outputs or classes based on probability when we pass the inputs through a prediction function and returns a probability score between 0 and 1.We basically decide with a threshold value above which we classify values into Class 1 and of the value goes below the threshold then we classify it in Class 2"
   ]
  },
  {
   "cell_type": "markdown",
   "metadata": {},
   "source": [
    "### Cost Function<br>\n",
    "For logistic regression, the Cost function is defined as:<br>"
   ]
  },
  {
   "cell_type": "markdown",
   "metadata": {},
   "source": [
    "$$ \\mathrm{Cost}(h_\\theta(x),y) =\n",
    "\\begin{cases}\n",
    "-\\log(h_\\theta(x)) & \\text{if y = 1} \\\\\n",
    "-\\log(1-h_\\theta(x)) & \\text{if y = 0}\n",
    "\\end{cases} $$"
   ]
  },
  {
   "cell_type": "markdown",
   "metadata": {},
   "source": [
    "$$ \\mathrm{Cost}(h_\\theta(x),y) = -y \\log(h_\\theta(x)) - (1 - y) \\log(1-h_\\theta(x)) $$"
   ]
  },
  {
   "cell_type": "markdown",
   "metadata": {},
   "source": [
    "Iterating this for all values of y <br>\n",
    "\n",
    "$$ \\begin{align}\n",
    "J(\\theta) & = \\dfrac{1}{m} \\sum_{i=1}^m \\mathrm{Cost}(h_\\theta(x^{(i)}),y^{(i)}) \\\\\n",
    "& = - \\dfrac{1}{m} [\\sum_{i=1}^{m} y^{(i)} \\log(h_\\theta(x^{(i)})) + (1 - y^{(i)}) \\log(1-h_\\theta(x^{(i)}))] \\\\\n",
    "\\end{align} $$"
   ]
  },
  {
   "cell_type": "markdown",
   "metadata": {},
   "source": [
    "# How good is your Model ?\n",
    "\n",
    "### Confusion Matrix : <br>\n",
    "A confusion matrix is a table that is often used to describe the performance of a classification model (or \"classifier\") on a set of test data for which the true values are known.Consider the following example :"
   ]
  },
  {
   "cell_type": "markdown",
   "metadata": {},
   "source": [
    "<div style='width:400px;height:300px'>\n",
    "<div style='position:absolute;left:calc(50%);display:flex;width:400px;height:100px;'>\n",
    "        <div style='width:100px;height:100px;line-height:100px;border:1px solid white'align=\"center\">n=165</div>\n",
    "        <div style='width:100px;height:100px;line-height:50px;background:#F9E79F;border-radius:10px;border:1px solid white'align=\"center\"><b> Predicted : <br> NO</b></div>\n",
    "        <div style='width:100px;height:100px;line-height:50px;background:#F9E79F;border-radius:10px;border:1px solid white'align=\"center\"><b> Predicted : <br> YES</b></div>\n",
    "    </div>\n",
    "<div style='position:absolute;left:calc(50%);top:112.5px;display:flex;width:400px;height:100px;'>\n",
    "        <div style='width:100px;height:100px;line-height:50px;background:#F9E79F;border-radius:10px;border:1px solid white'align=\"center\"><b> Actual : <br> NO</b></div>\n",
    "        <div style='width:100px;height:100px;background:#DAF7A6;line-height:100px;border-radius:10px;border:1px solid white'align=\"center\"><b> 50 </b></div>\n",
    "        <div style='width:100px;height:100px;background:#FFA07A;line-height:100px;border-radius:10px;border:1px solid white'align=\"center\"><b> 10 </b></div>\n",
    "    </div>\n",
    "<div style='position:absolute;left:calc(50%);top:215px;display:flex;width:400px;height:100px;'>\n",
    "        <div style='width:100px;height:100px;line-height:50px;background:#F9E79F;border-radius:10px;border:1px solid white'align=\"center\"><b> Actual : <br> YES </b></div>\n",
    "        <div style='width:100px;height:100px;background:#FFA07A;line-height:100px;border-radius:10px;border:1px solid white'align=\"center\"><b> 5 </b></div>\n",
    "        <div style='width:100px;height:100px;background:#DAF7A6;line-height:100px;border-radius:10px;border:1px solid white'align=\"center\"><b> 100 </b></div>\n",
    "    </div>"
   ]
  },
  {
   "cell_type": "markdown",
   "metadata": {},
   "source": [
    "What can we learn from this matrix?<br><br>\n",
    "There are two possible predicted classes: \"yes\" and \"no\". If we were predicting the presence of a disease, for example, \"yes\" would mean they have the disease, and \"no\" would mean they don't have the disease.<br>\n",
    "The classifier made a total of 165 predictions (e.g., 165 patients were being tested for the presence of that disease).\n",
    "Out of those 165 cases, the classifier predicted \"yes\" 110 times, and \"no\" 55 times.\n",
    "In reality, 105 patients in the sample have the disease, and 60 patients do not.\n",
    "Let's now define the most basic terms, which are whole numbers (not rates):<br>\n",
    "\n",
    "<br>1.true positives (TP): These are cases in which we predicted yes (they have the disease), and they do have the disease.\n",
    "<br>2.true negatives (TN): We predicted no, and they don't have the disease.\n",
    "<br>3.false positives (FP): We predicted yes, but they don't actually have the disease. (Also known as a \"Type I error.\")\n",
    "<br>4.false negatives (FN): We predicted no, but they actually do have the disease. (Also known as a \"Type II error.\")"
   ]
  },
  {
   "cell_type": "code",
   "execution_count": 5,
   "metadata": {},
   "outputs": [
    {
     "data": {
      "text/html": [
       "<img src=\"Images/cm.png\"/>"
      ],
      "text/plain": [
       "<IPython.core.display.Image object>"
      ]
     },
     "execution_count": 5,
     "metadata": {},
     "output_type": "execute_result"
    }
   ],
   "source": [
    "Image(url= \"Images/cm.png\")"
   ]
  },
  {
   "cell_type": "code",
   "execution_count": 6,
   "metadata": {},
   "outputs": [
    {
     "data": {
      "text/html": [
       "<img src=\"Images/accuracy.png\"/>"
      ],
      "text/plain": [
       "<IPython.core.display.Image object>"
      ]
     },
     "execution_count": 6,
     "metadata": {},
     "output_type": "execute_result"
    }
   ],
   "source": [
    "Image(url= \"Images/accuracy.png\")"
   ]
  },
  {
   "cell_type": "markdown",
   "metadata": {},
   "source": [
    "# Getting hands dirty at coding Logistic Regression"
   ]
  },
  {
   "cell_type": "markdown",
   "metadata": {},
   "source": [
    "### Steps for Solving a Machine Learning Problem <br>\n",
    "1.Understanding the problem statement <br>\n",
    "2.Data Cleaning <br>\n",
    "3.Exploratory Data Analysis <br>\n",
    "4.Modelling <br>\n",
    "5.Model Evaluation\n"
   ]
  },
  {
   "cell_type": "markdown",
   "metadata": {},
   "source": [
    "### 1.Understanding the Problem Statement <br>\n",
    "#### Problem Statement : <br>\n",
    "We have a data which classified if patients have heart disease or not according to features in it. Let us use this data to create a model which tries to predict if a patient has this disease or not.<br>\n",
    "Data filename : heart.csv<br><br>\n",
    "\n",
    "Data contains;<br><br>\n",
    "\n",
    "age - age in years<br>\n",
    "sex - (1 = male; 0 = female)<br>\n",
    "cp - chest pain type<br>\n",
    "trestbps - resting blood pressure (in mm Hg on admission to the hospital)<br>\n",
    "chol - serum cholestoral in mg/dl<br>\n",
    "fbs - (fasting blood sugar > 120 mg/dl) (1 = true; 0 = false)<br>\n",
    "restecg - resting electrocardiographic results<br>\n",
    "thalach - maximum heart rate achieved<br>\n",
    "exang - exercise induced angina (1 = yes; 0 = no)<br>\n",
    "oldpeak - ST depression induced by exercise relative to rest<br>\n",
    "slope - the slope of the peak exercise ST segment<br>\n",
    "ca - number of major vessels (0-3) colored by flourosopy<br>\n",
    "thal - 3 = normal; 6 = fixed defect; 7 = reversable defect<br>\n",
    "target - have disease or not (1=yes, 0=no)<br>"
   ]
  },
  {
   "cell_type": "code",
   "execution_count": 7,
   "metadata": {},
   "outputs": [],
   "source": [
    "#Import required package Hint : import package_name\n",
    "#Hint : Pandas,Seaborn\n"
   ]
  },
  {
   "cell_type": "code",
   "execution_count": 8,
   "metadata": {},
   "outputs": [],
   "source": [
    "#Import data in form of a dataframe.Hint : Given data has comma separated values with no headers\n",
    "#Hint use pd.read_csv(\"file_name\")\n"
   ]
  },
  {
   "cell_type": "code",
   "execution_count": 9,
   "metadata": {},
   "outputs": [],
   "source": [
    "#check the dataframe\n",
    "#Hint : dataframe.head()\n"
   ]
  },
  {
   "cell_type": "code",
   "execution_count": 10,
   "metadata": {},
   "outputs": [],
   "source": [
    "#check the dataframe\n",
    "#Hint : dataframe.info()\n"
   ]
  },
  {
   "cell_type": "markdown",
   "metadata": {},
   "source": [
    "### 2.Data Cleaning<br>\n",
    "Understand the data and check for <br>\n",
    "1.Duplicate values <br>\n",
    "2.Inconsistent values(Null values)"
   ]
  },
  {
   "cell_type": "code",
   "execution_count": 11,
   "metadata": {},
   "outputs": [],
   "source": [
    "#Check duplicate values\n",
    "#Hint : Dataframe.drop_duplicates()\n"
   ]
  },
  {
   "cell_type": "code",
   "execution_count": 12,
   "metadata": {},
   "outputs": [],
   "source": [
    "#Check which column has null values and how can null values be imputed\n",
    "#Hint : Dataframe.info\n"
   ]
  },
  {
   "cell_type": "markdown",
   "metadata": {},
   "source": [
    "### 3.Exploratory Data Analysis<br>\n",
    "1.Finding correlation and plotting it graphically<br>\n",
    "2.Data analysis on available features<br>"
   ]
  },
  {
   "cell_type": "code",
   "execution_count": 13,
   "metadata": {},
   "outputs": [],
   "source": [
    "#1.Finding correlation\n",
    "#Hint : dataframe.corr()\n"
   ]
  },
  {
   "cell_type": "code",
   "execution_count": 14,
   "metadata": {},
   "outputs": [],
   "source": [
    "#Lets try to plot this correlation\n",
    "#Hint Heatmaps can be used to understand graphs\n",
    "#Hint seaborn.heatmap(dataframe.correlation)\n"
   ]
  },
  {
   "cell_type": "code",
   "execution_count": 15,
   "metadata": {},
   "outputs": [],
   "source": [
    "#Plotting Distribution of various features\n",
    "#Hint seaborn.distplot(attribute) for histogram\n"
   ]
  },
  {
   "cell_type": "code",
   "execution_count": 16,
   "metadata": {},
   "outputs": [],
   "source": [
    "#Hint seaborn.countplot(attribute,data=dataframe,hue=Target_Variable) for frequency plot\n"
   ]
  },
  {
   "cell_type": "code",
   "execution_count": 17,
   "metadata": {},
   "outputs": [],
   "source": [
    "#Lets plot relationship between two variables e.g :thalach vs. chol \n",
    "#Hint seaborn.scatterplot(variable1,variable2,data=dataframe,hue=Target_Variable))\n"
   ]
  },
  {
   "cell_type": "markdown",
   "metadata": {},
   "source": [
    "### Data Modelling<br>\n",
    "1.Preparing Training and test Dataset<br>\n",
    "2.Applying Logistic Regression"
   ]
  },
  {
   "cell_type": "code",
   "execution_count": 18,
   "metadata": {},
   "outputs": [],
   "source": [
    "# Separate predictor variable from the data set\n",
    "#Hint : X= dataframe.drop('target',axis=1)\n",
    "#y=dataframe['target']\n"
   ]
  },
  {
   "cell_type": "code",
   "execution_count": 19,
   "metadata": {},
   "outputs": [],
   "source": [
    "#Prepare train and test data\n",
    "#Hint : Import train_test_split from sklearn.model_selection\n"
   ]
  },
  {
   "cell_type": "code",
   "execution_count": 20,
   "metadata": {},
   "outputs": [],
   "source": [
    "#Split the dataset into 80 : 20 Ratio\n",
    "#Hint : X_train,X_test,y_train,y_test = train_test_split(X,y,test_size=.2,random_state=42)\n"
   ]
  },
  {
   "cell_type": "markdown",
   "metadata": {},
   "source": [
    "#### Applying Logistic Regression"
   ]
  },
  {
   "cell_type": "code",
   "execution_count": 21,
   "metadata": {},
   "outputs": [],
   "source": [
    "#Hint : Import LogisticRegression from sklearn.linear_model\n"
   ]
  },
  {
   "cell_type": "code",
   "execution_count": 22,
   "metadata": {},
   "outputs": [],
   "source": [
    "#Create an object of LogisticRegression class\n",
    "#Hint : Object_Name = Class_Name()\n"
   ]
  },
  {
   "cell_type": "code",
   "execution_count": 23,
   "metadata": {},
   "outputs": [],
   "source": [
    "#Fit the model\n",
    "#Hint : Use fit method\n",
    "#Hint Object_Name.fit(X_train,y_train)\n"
   ]
  },
  {
   "cell_type": "code",
   "execution_count": 24,
   "metadata": {},
   "outputs": [],
   "source": [
    "#Predict the values\n",
    "#Hint : Use predict method\n",
    "#Hint : Object_Name.predict(X_test)\n"
   ]
  },
  {
   "cell_type": "markdown",
   "metadata": {},
   "source": [
    "### 5.Model Evaluation "
   ]
  },
  {
   "cell_type": "code",
   "execution_count": 25,
   "metadata": {},
   "outputs": [],
   "source": [
    "# Import required scores for evaluation\n",
    "# Import recall_score,precision_score,accuracy_score from sklearn.metrics\n"
   ]
  },
  {
   "cell_type": "code",
   "execution_count": 26,
   "metadata": {},
   "outputs": [],
   "source": [
    "# Hint : accuracy_score(y_test,predict)\n"
   ]
  },
  {
   "cell_type": "code",
   "execution_count": 27,
   "metadata": {},
   "outputs": [],
   "source": [
    "# Hint : recall_score(y_test,predict)\n"
   ]
  },
  {
   "cell_type": "code",
   "execution_count": 28,
   "metadata": {},
   "outputs": [],
   "source": [
    "# Hint : precision_score(y_test,predict)\n"
   ]
  },
  {
   "cell_type": "code",
   "execution_count": 29,
   "metadata": {},
   "outputs": [
    {
     "data": {
      "text/html": [
       "<img src=\"Images/Thanks.jpg\"/>"
      ],
      "text/plain": [
       "<IPython.core.display.Image object>"
      ]
     },
     "execution_count": 29,
     "metadata": {},
     "output_type": "execute_result"
    }
   ],
   "source": [
    "Image(url= \"Images/Thanks.jpg\")"
   ]
  }
 ],
 "metadata": {
  "kernelspec": {
   "display_name": "Python 3",
   "language": "python",
   "name": "python3"
  },
  "language_info": {
   "codemirror_mode": {
    "name": "ipython",
    "version": 3
   },
   "file_extension": ".py",
   "mimetype": "text/x-python",
   "name": "python",
   "nbconvert_exporter": "python",
   "pygments_lexer": "ipython3",
   "version": "3.7.0"
  }
 },
 "nbformat": 4,
 "nbformat_minor": 2
}
